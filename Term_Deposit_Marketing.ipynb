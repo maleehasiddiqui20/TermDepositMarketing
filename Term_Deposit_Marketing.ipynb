{
  "nbformat": 4,
  "nbformat_minor": 0,
  "metadata": {
    "colab": {
      "name": "Term_Deposit_Marketing.ipynb",
      "provenance": [],
      "collapsed_sections": [],
      "include_colab_link": true
    },
    "kernelspec": {
      "name": "python3",
      "display_name": "Python 3"
    }
  },
  "cells": [
    {
      "cell_type": "markdown",
      "metadata": {
        "id": "view-in-github",
        "colab_type": "text"
      },
      "source": [
        "<a href=\"https://colab.research.google.com/github/maleehasiddiqui20/TermDepositMarketing/blob/master/Term_Deposit_Marketing.ipynb\" target=\"_parent\"><img src=\"https://colab.research.google.com/assets/colab-badge.svg\" alt=\"Open In Colab\"/></a>"
      ]
    },
    {
      "cell_type": "markdown",
      "metadata": {
        "id": "qv5ZBWpCXljH",
        "colab_type": "text"
      },
      "source": [
        "1) Uploading Data:\n",
        "\n",
        "https://towardsdatascience.com/3-ways-to-load-csv-files-into-colab-7c14fcbdcb92\n"
      ]
    },
    {
      "cell_type": "code",
      "metadata": {
        "id": "hVYAwIL2XlMp",
        "colab_type": "code",
        "colab": {}
      },
      "source": [
        "#From github\n",
        "import pandas as pd\n",
        "url = 'https://raw.githubusercontent.com/madmashup/targeted-marketing-predictive-engine/master/banking.csv'\n",
        "df = pd.read_csv(url)"
      ],
      "execution_count": 0,
      "outputs": []
    },
    {
      "cell_type": "markdown",
      "metadata": {
        "id": "1tzHDmbCZja0",
        "colab_type": "text"
      },
      "source": [
        "2) Initial Exploration"
      ]
    },
    {
      "cell_type": "code",
      "metadata": {
        "id": "rUpG_TqsVnCi",
        "colab_type": "code",
        "outputId": "505f147b-5c34-4ef0-ba3a-11bd9c05f25b",
        "colab": {
          "base_uri": "https://localhost:8080/",
          "height": 224
        }
      },
      "source": [
        "df.head()"
      ],
      "execution_count": 0,
      "outputs": [
        {
          "output_type": "execute_result",
          "data": {
            "text/html": [
              "<div>\n",
              "<style scoped>\n",
              "    .dataframe tbody tr th:only-of-type {\n",
              "        vertical-align: middle;\n",
              "    }\n",
              "\n",
              "    .dataframe tbody tr th {\n",
              "        vertical-align: top;\n",
              "    }\n",
              "\n",
              "    .dataframe thead th {\n",
              "        text-align: right;\n",
              "    }\n",
              "</style>\n",
              "<table border=\"1\" class=\"dataframe\">\n",
              "  <thead>\n",
              "    <tr style=\"text-align: right;\">\n",
              "      <th></th>\n",
              "      <th>age</th>\n",
              "      <th>job</th>\n",
              "      <th>marital</th>\n",
              "      <th>education</th>\n",
              "      <th>default</th>\n",
              "      <th>housing</th>\n",
              "      <th>loan</th>\n",
              "      <th>contact</th>\n",
              "      <th>month</th>\n",
              "      <th>day_of_week</th>\n",
              "      <th>duration</th>\n",
              "      <th>campaign</th>\n",
              "      <th>pdays</th>\n",
              "      <th>previous</th>\n",
              "      <th>poutcome</th>\n",
              "      <th>emp_var_rate</th>\n",
              "      <th>cons_price_idx</th>\n",
              "      <th>cons_conf_idx</th>\n",
              "      <th>euribor3m</th>\n",
              "      <th>nr_employed</th>\n",
              "      <th>y</th>\n",
              "    </tr>\n",
              "  </thead>\n",
              "  <tbody>\n",
              "    <tr>\n",
              "      <th>0</th>\n",
              "      <td>44</td>\n",
              "      <td>blue-collar</td>\n",
              "      <td>married</td>\n",
              "      <td>basic.4y</td>\n",
              "      <td>unknown</td>\n",
              "      <td>yes</td>\n",
              "      <td>no</td>\n",
              "      <td>cellular</td>\n",
              "      <td>aug</td>\n",
              "      <td>thu</td>\n",
              "      <td>210</td>\n",
              "      <td>1</td>\n",
              "      <td>999</td>\n",
              "      <td>0</td>\n",
              "      <td>nonexistent</td>\n",
              "      <td>1.4</td>\n",
              "      <td>93.444</td>\n",
              "      <td>-36.1</td>\n",
              "      <td>4.963</td>\n",
              "      <td>5228.1</td>\n",
              "      <td>0</td>\n",
              "    </tr>\n",
              "    <tr>\n",
              "      <th>1</th>\n",
              "      <td>53</td>\n",
              "      <td>technician</td>\n",
              "      <td>married</td>\n",
              "      <td>unknown</td>\n",
              "      <td>no</td>\n",
              "      <td>no</td>\n",
              "      <td>no</td>\n",
              "      <td>cellular</td>\n",
              "      <td>nov</td>\n",
              "      <td>fri</td>\n",
              "      <td>138</td>\n",
              "      <td>1</td>\n",
              "      <td>999</td>\n",
              "      <td>0</td>\n",
              "      <td>nonexistent</td>\n",
              "      <td>-0.1</td>\n",
              "      <td>93.200</td>\n",
              "      <td>-42.0</td>\n",
              "      <td>4.021</td>\n",
              "      <td>5195.8</td>\n",
              "      <td>0</td>\n",
              "    </tr>\n",
              "    <tr>\n",
              "      <th>2</th>\n",
              "      <td>28</td>\n",
              "      <td>management</td>\n",
              "      <td>single</td>\n",
              "      <td>university.degree</td>\n",
              "      <td>no</td>\n",
              "      <td>yes</td>\n",
              "      <td>no</td>\n",
              "      <td>cellular</td>\n",
              "      <td>jun</td>\n",
              "      <td>thu</td>\n",
              "      <td>339</td>\n",
              "      <td>3</td>\n",
              "      <td>6</td>\n",
              "      <td>2</td>\n",
              "      <td>success</td>\n",
              "      <td>-1.7</td>\n",
              "      <td>94.055</td>\n",
              "      <td>-39.8</td>\n",
              "      <td>0.729</td>\n",
              "      <td>4991.6</td>\n",
              "      <td>1</td>\n",
              "    </tr>\n",
              "    <tr>\n",
              "      <th>3</th>\n",
              "      <td>39</td>\n",
              "      <td>services</td>\n",
              "      <td>married</td>\n",
              "      <td>high.school</td>\n",
              "      <td>no</td>\n",
              "      <td>no</td>\n",
              "      <td>no</td>\n",
              "      <td>cellular</td>\n",
              "      <td>apr</td>\n",
              "      <td>fri</td>\n",
              "      <td>185</td>\n",
              "      <td>2</td>\n",
              "      <td>999</td>\n",
              "      <td>0</td>\n",
              "      <td>nonexistent</td>\n",
              "      <td>-1.8</td>\n",
              "      <td>93.075</td>\n",
              "      <td>-47.1</td>\n",
              "      <td>1.405</td>\n",
              "      <td>5099.1</td>\n",
              "      <td>0</td>\n",
              "    </tr>\n",
              "    <tr>\n",
              "      <th>4</th>\n",
              "      <td>55</td>\n",
              "      <td>retired</td>\n",
              "      <td>married</td>\n",
              "      <td>basic.4y</td>\n",
              "      <td>no</td>\n",
              "      <td>yes</td>\n",
              "      <td>no</td>\n",
              "      <td>cellular</td>\n",
              "      <td>aug</td>\n",
              "      <td>fri</td>\n",
              "      <td>137</td>\n",
              "      <td>1</td>\n",
              "      <td>3</td>\n",
              "      <td>1</td>\n",
              "      <td>success</td>\n",
              "      <td>-2.9</td>\n",
              "      <td>92.201</td>\n",
              "      <td>-31.4</td>\n",
              "      <td>0.869</td>\n",
              "      <td>5076.2</td>\n",
              "      <td>1</td>\n",
              "    </tr>\n",
              "  </tbody>\n",
              "</table>\n",
              "</div>"
            ],
            "text/plain": [
              "   age          job  marital  ... euribor3m nr_employed  y\n",
              "0   44  blue-collar  married  ...     4.963      5228.1  0\n",
              "1   53   technician  married  ...     4.021      5195.8  0\n",
              "2   28   management   single  ...     0.729      4991.6  1\n",
              "3   39     services  married  ...     1.405      5099.1  0\n",
              "4   55      retired  married  ...     0.869      5076.2  1\n",
              "\n",
              "[5 rows x 21 columns]"
            ]
          },
          "metadata": {
            "tags": []
          },
          "execution_count": 4
        }
      ]
    },
    {
      "cell_type": "markdown",
      "metadata": {
        "id": "CUqlwn9ownkS",
        "colab_type": "text"
      },
      "source": [
        "**Attribute Information:**\n",
        "\n",
        "Input variables:\n",
        "\n",
        "**bank client data:**\n",
        "\n",
        "1 - age (numeric)\n",
        "\n",
        "2 - job : type of job (categorical: 'admin.','blue-collar','entrepreneur','housemaid','management','retired','self-employed','services','student','technician','unemployed','unknown')\n",
        "\n",
        "3 - marital : marital status (categorical: 'divorced','married','single','unknown'; note: 'divorced' means divorced or widowed)\n",
        "\n",
        "4 - education (categorical: 'basic.4y','basic.6y','basic.9y','high.school','illiterate','professional.course','university.degree','unknown')\n",
        "\n",
        "5 - default: has credit in default? (categorical: 'no','yes','unknown')\n",
        "\n",
        "6 - housing: has housing loan? (categorical: 'no','yes','unknown')\n",
        "\n",
        "7 - loan: has personal loan? (categorical: 'no','yes','unknown')\n",
        "\n",
        "**related with the last contact of the current campaign:**\n",
        "\n",
        "8 - contact: contact communication type (categorical: 'cellular','telephone')\n",
        "\n",
        "9 - month: last contact month of year (categorical: 'jan', 'feb', 'mar', ..., 'nov', 'dec')\n",
        "\n",
        "10 - day_of_week: last contact day of the week (categorical: 'mon','tue','wed','thu','fri')\n",
        "\n",
        "11 - duration: last contact duration, in seconds (numeric). Important note: this attribute highly affects the output target (e.g., if duration=0 then y='no'). Yet, the duration is not known before a call is performed. Also, after the end of the call y is obviously known. Thus, this input should only be included for benchmark purposes and should be discarded if the intention is to have a realistic predictive model.\n",
        "\n",
        "**other attributes:**\n",
        "\n",
        "12 - campaign: number of contacts performed during this campaign and for this client (numeric, includes last contact)\n",
        "\n",
        "13 - pdays: number of days that passed by after the client was last contacted from a previous campaign (numeric; 999 means client was not previously contacted)\n",
        "\n",
        "14 - previous: number of contacts performed before this campaign and for this client (numeric)\n",
        "\n",
        "15 - poutcome: outcome of the previous marketing campaign (categorical: 'failure','nonexistent','success')\n",
        "\n",
        "**social and economic context attributes**\n",
        "\n",
        "16 - emp.var.rate: employment variation rate - quarterly indicator (numeric)\n",
        "\n",
        "17 - cons.price.idx: consumer price index - monthly indicator (numeric)\n",
        "\n",
        "18 - cons.conf.idx: consumer confidence index - monthly indicator (numeric)\n",
        "\n",
        "19 - euribor3m: euribor 3 month rate - daily indicator (numeric)\n",
        "\n",
        "20 - nr.employed: number of employees - quarterly indicator (numeric)\n",
        "\n",
        "**Output variable (desired target):**\n",
        "\n",
        "21 - y - has the client subscribed a term deposit? (binary: 'yes','no')\n",
        "\n"
      ]
    },
    {
      "cell_type": "code",
      "metadata": {
        "id": "dJXNaP0aZ5TO",
        "colab_type": "code",
        "outputId": "586b8984-cc0d-4c9b-e7a5-0812a3e96d7d",
        "colab": {
          "base_uri": "https://localhost:8080/",
          "height": 54
        }
      },
      "source": [
        "print(list(df.columns))"
      ],
      "execution_count": 0,
      "outputs": [
        {
          "output_type": "stream",
          "text": [
            "['age', 'job', 'marital', 'education', 'default', 'housing', 'loan', 'contact', 'month', 'day_of_week', 'duration', 'campaign', 'pdays', 'previous', 'poutcome', 'emp_var_rate', 'cons_price_idx', 'cons_conf_idx', 'euribor3m', 'nr_employed', 'y']\n"
          ],
          "name": "stdout"
        }
      ]
    },
    {
      "cell_type": "code",
      "metadata": {
        "id": "MR64V6WuaBzd",
        "colab_type": "code",
        "outputId": "58bb6608-fc33-4086-f1e5-fae446f0887d",
        "colab": {
          "base_uri": "https://localhost:8080/",
          "height": 34
        }
      },
      "source": [
        "print(df.shape)"
      ],
      "execution_count": 0,
      "outputs": [
        {
          "output_type": "stream",
          "text": [
            "(41188, 21)\n"
          ],
          "name": "stdout"
        }
      ]
    },
    {
      "cell_type": "code",
      "metadata": {
        "id": "6FTVJ3s6aGOE",
        "colab_type": "code",
        "outputId": "391e5c60-ddf8-4fbf-b016-80fcae93369b",
        "colab": {
          "base_uri": "https://localhost:8080/",
          "height": 425
        }
      },
      "source": [
        "print(df.isnull().values.any())\n",
        "print()\n",
        "print(df.isnull().sum())"
      ],
      "execution_count": 0,
      "outputs": [
        {
          "output_type": "stream",
          "text": [
            "False\n",
            "\n",
            "age               0\n",
            "job               0\n",
            "marital           0\n",
            "education         0\n",
            "default           0\n",
            "housing           0\n",
            "loan              0\n",
            "contact           0\n",
            "month             0\n",
            "day_of_week       0\n",
            "duration          0\n",
            "campaign          0\n",
            "pdays             0\n",
            "previous          0\n",
            "poutcome          0\n",
            "emp_var_rate      0\n",
            "cons_price_idx    0\n",
            "cons_conf_idx     0\n",
            "euribor3m         0\n",
            "nr_employed       0\n",
            "y                 0\n",
            "dtype: int64\n"
          ],
          "name": "stdout"
        }
      ]
    },
    {
      "cell_type": "code",
      "metadata": {
        "id": "MyhF06t3iFFf",
        "colab_type": "code",
        "outputId": "e88f7da9-d5e5-4185-a93e-e8abd22ca56a",
        "colab": {
          "base_uri": "https://localhost:8080/",
          "height": 391
        }
      },
      "source": [
        "print(df.dtypes)"
      ],
      "execution_count": 0,
      "outputs": [
        {
          "output_type": "stream",
          "text": [
            "age                 int64\n",
            "job                object\n",
            "marital            object\n",
            "education          object\n",
            "default            object\n",
            "housing            object\n",
            "loan               object\n",
            "contact            object\n",
            "month              object\n",
            "day_of_week        object\n",
            "duration            int64\n",
            "campaign            int64\n",
            "pdays               int64\n",
            "previous            int64\n",
            "poutcome           object\n",
            "emp_var_rate      float64\n",
            "cons_price_idx    float64\n",
            "cons_conf_idx     float64\n",
            "euribor3m         float64\n",
            "nr_employed       float64\n",
            "y                   int64\n",
            "dtype: object\n"
          ],
          "name": "stdout"
        }
      ]
    },
    {
      "cell_type": "code",
      "metadata": {
        "id": "EOo3svCk-Ktk",
        "colab_type": "code",
        "outputId": "7c2ed582-e319-4213-badb-79fe69df283a",
        "colab": {
          "base_uri": "https://localhost:8080/",
          "height": 34
        }
      },
      "source": [
        "#see levels for each variable\n",
        "df['day_of_week'].unique()"
      ],
      "execution_count": 0,
      "outputs": [
        {
          "output_type": "execute_result",
          "data": {
            "text/plain": [
              "array(['thu', 'fri', 'tue', 'mon', 'wed'], dtype=object)"
            ]
          },
          "metadata": {
            "tags": []
          },
          "execution_count": 26
        }
      ]
    },
    {
      "cell_type": "code",
      "metadata": {
        "id": "KV0NrEIs_PTK",
        "colab_type": "code",
        "outputId": "1d2f49e7-5031-4fb2-a2d1-1ce7a36b0f0d",
        "colab": {
          "base_uri": "https://localhost:8080/",
          "height": 1000
        }
      },
      "source": [
        "#Info for all columns\n",
        "columnNo = 0\n",
        "types = df.dtypes\n",
        "for (columnName, columnData) in df.iteritems():\n",
        "  print('Colunm Name : ', columnName)\n",
        "  print('Column Type : ', types[columnNo])\n",
        "  columnNo = columnNo + 1\n",
        "  columnValues = df[columnName].unique()\n",
        "  print('Column Values : ' , columnValues)\n",
        "  print('\\n')\n",
        "  "
      ],
      "execution_count": 0,
      "outputs": [
        {
          "output_type": "stream",
          "text": [
            "Colunm Name :  age\n",
            "Column Type :  int64\n",
            "Column Values :  [44 53 28 39 55 30 37 36 27 34 41 33 26 52 35 40 32 49 38 47 46 29 54 42\n",
            " 72 48 43 56 31 24 68 59 50 45 25 57 63 58 60 64 51 23 20 74 80 61 62 75\n",
            " 21 82 77 70 76 73 66 22 71 19 79 88 65 67 81 18 84 69 98 85 83 78 92 86\n",
            " 94 17 91 89 87 95]\n",
            "\n",
            "\n",
            "Colunm Name :  job\n",
            "Column Type :  object\n",
            "Column Values :  ['blue-collar' 'technician' 'management' 'services' 'retired' 'admin.'\n",
            " 'housemaid' 'unemployed' 'entrepreneur' 'self-employed' 'unknown'\n",
            " 'student']\n",
            "\n",
            "\n",
            "Colunm Name :  marital\n",
            "Column Type :  object\n",
            "Column Values :  ['married' 'single' 'divorced' 'unknown']\n",
            "\n",
            "\n",
            "Colunm Name :  education\n",
            "Column Type :  object\n",
            "Column Values :  ['basic.4y' 'unknown' 'university.degree' 'high.school' 'basic.9y'\n",
            " 'professional.course' 'basic.6y' 'illiterate']\n",
            "\n",
            "\n",
            "Colunm Name :  default\n",
            "Column Type :  object\n",
            "Column Values :  ['unknown' 'no' 'yes']\n",
            "\n",
            "\n",
            "Colunm Name :  housing\n",
            "Column Type :  object\n",
            "Column Values :  ['yes' 'no' 'unknown']\n",
            "\n",
            "\n",
            "Colunm Name :  loan\n",
            "Column Type :  object\n",
            "Column Values :  ['no' 'yes' 'unknown']\n",
            "\n",
            "\n",
            "Colunm Name :  contact\n",
            "Column Type :  object\n",
            "Column Values :  ['cellular' 'telephone']\n",
            "\n",
            "\n",
            "Colunm Name :  month\n",
            "Column Type :  object\n",
            "Column Values :  ['aug' 'nov' 'jun' 'apr' 'jul' 'may' 'oct' 'mar' 'sep' 'dec']\n",
            "\n",
            "\n",
            "Colunm Name :  day_of_week\n",
            "Column Type :  object\n",
            "Column Values :  ['thu' 'fri' 'tue' 'mon' 'wed']\n",
            "\n",
            "\n",
            "Colunm Name :  duration\n",
            "Column Type :  int64\n",
            "Column Values :  [ 210  138  339 ... 2260 1662 1490]\n",
            "\n",
            "\n",
            "Colunm Name :  campaign\n",
            "Column Type :  int64\n",
            "Column Values :  [ 1  3  2  8  5  4 25 11 12 18  6 17  7 20 16 14 10  9 19 29 13 40 15 34\n",
            " 22 24 41 21 23 39 28 27 31 35 26 30 32 43 33 42 56 37]\n",
            "\n",
            "\n",
            "Colunm Name :  pdays\n",
            "Column Type :  int64\n",
            "Column Values :  [999   6   3   2   4  16   0   5  11  14  13   9  15  17  12  26   7  19\n",
            "  10   1  18   8  20  21  22  25  27]\n",
            "\n",
            "\n",
            "Colunm Name :  previous\n",
            "Column Type :  int64\n",
            "Column Values :  [0 2 1 3 4 5 7 6]\n",
            "\n",
            "\n",
            "Colunm Name :  poutcome\n",
            "Column Type :  object\n",
            "Column Values :  ['nonexistent' 'success' 'failure']\n",
            "\n",
            "\n",
            "Colunm Name :  emp_var_rate\n",
            "Column Type :  float64\n",
            "Column Values :  [ 1.4 -0.1 -1.7 -1.8 -2.9  1.1 -3.4 -1.1 -3.  -0.2]\n",
            "\n",
            "\n",
            "Colunm Name :  cons_price_idx\n",
            "Column Type :  float64\n",
            "Column Values :  [93.444 93.2   94.055 93.075 92.201 93.918 92.893 92.963 93.994 94.465\n",
            " 93.798 92.431 92.649 92.843 92.469 93.749 93.876 94.027 94.199 94.601\n",
            " 92.713 94.767 93.369 94.215 92.379 92.756]\n",
            "\n",
            "\n",
            "Colunm Name :  cons_conf_idx\n",
            "Column Type :  float64\n",
            "Column Values :  [-36.1 -42.  -39.8 -47.1 -31.4 -42.7 -46.2 -40.8 -36.4 -41.8 -40.4 -26.9\n",
            " -30.1 -50.  -33.6 -34.6 -40.  -38.3 -37.5 -49.5 -33.  -50.8 -34.8 -40.3\n",
            " -29.8 -45.9]\n",
            "\n",
            "\n",
            "Colunm Name :  euribor3m\n",
            "Column Type :  float64\n",
            "Column Values :  [4.963 4.021 0.729 1.405 0.869 4.961 1.327 1.313 1.266 1.41  4.864 4.964\n",
            " 4.965 1.291 4.96  4.962 1.365 4.86  4.967 4.968 1.344 0.754 1.299 1.268\n",
            " 1.334 4.857 0.715 4.966 4.076 1.354 4.959 4.958 4.859 1.27  4.856 1.811\n",
            " 1.029 1.259 4.866 0.883 4.858 1.56  0.74  4.245 4.12  0.659 1.415 0.73\n",
            " 1.072 4.153 0.716 0.682 0.905 1.281 4.865 4.957 0.914 0.849 0.876 0.644\n",
            " 4.855 1.392 1.25  0.873 0.881 0.942 0.9   0.692 1.244 1.264 4.191 0.882\n",
            " 1.035 0.742 0.879 1.032 0.719 5.    0.724 4.97  0.646 1.26  1.479 0.87\n",
            " 1.423 1.498 0.803 0.714 1.406 0.702 0.827 0.71  4.955 0.653 4.947 0.835\n",
            " 1.531 0.735 0.743 1.262 0.944 1.028 0.663 0.731 0.699 1.435 1.538 0.846\n",
            " 0.884 1.453 1.445 0.635 0.885 0.854 0.748 0.643 0.728 0.893 0.861 0.706\n",
            " 1.025 4.912 0.668 0.899 1.085 0.654 0.88  0.781 1.059 0.636 0.965 0.72\n",
            " 0.896 1.602 0.741 1.614 0.84  1.483 0.773 0.701 0.721 0.697 0.985 0.829\n",
            " 0.761 0.903 1.466 0.809 1.049 0.959 0.717 1.703 1.04  0.898 1.05  0.739\n",
            " 1.    0.645 1.007 0.655 1.252 0.683 1.044 0.651 0.767 0.797 0.822 0.904\n",
            " 0.642 0.752 0.722 1.224 0.977 0.707 1.548 3.563 1.016 1.556 1.663 0.744\n",
            " 1.031 0.851 0.64  0.708 0.878 1.043 0.886 0.639 0.793 0.788 0.652 4.794\n",
            " 0.819 1.206 0.859 1.687 0.737 4.956 1.799 1.51  0.77  0.753 0.877 0.908\n",
            " 1.041 0.677 0.723 0.937 4.918 0.987 1.046 4.936 0.704 0.712 1.384 0.711\n",
            " 0.821 1.757 0.695 0.843 1.52  0.838 0.825 4.7   1.03  1.048 0.733 4.474\n",
            " 0.768 0.982 0.65  0.684 1.037 0.634 1.235 0.921 0.718 0.685 1.65  1.64\n",
            " 1.286 0.732 5.045 0.649 1.4   4.663 0.778 0.672 1.629 1.372 1.726 0.75\n",
            " 0.688 0.709 0.713 1.215 0.889 4.827 0.834 0.933 3.743 0.727 0.755 1.584\n",
            " 4.406 0.89  0.81  0.972 0.782 0.638 1.039 0.79  0.802 3.853 1.099 0.7\n",
            " 0.762 4.76  0.953 0.766 0.637 1.778 0.771 3.053 3.329 0.969 0.813 0.894\n",
            " 4.733 0.895 3.879 4.286 4.592 3.901 0.979 0.891 1.047 0.927 1.018 1.008\n",
            " 1.045 0.749 0.888 4.921 0.993 0.956 4.223 0.69  0.996 3.669 1.574 3.488\n",
            " 3.428 4.343 3.816 3.282]\n",
            "\n",
            "\n",
            "Colunm Name :  nr_employed\n",
            "Column Type :  float64\n",
            "Column Values :  [5228.1 5195.8 4991.6 5099.1 5076.2 5191.  5017.5 5008.7 4963.6 5023.5\n",
            " 5176.3]\n",
            "\n",
            "\n",
            "Colunm Name :  y\n",
            "Column Type :  int64\n",
            "Column Values :  [0 1]\n",
            "\n",
            "\n"
          ],
          "name": "stdout"
        }
      ]
    },
    {
      "cell_type": "markdown",
      "metadata": {
        "id": "6WmBWDSQoNBj",
        "colab_type": "text"
      },
      "source": [
        "3) Preprocessing"
      ]
    },
    {
      "cell_type": "code",
      "metadata": {
        "id": "LNB0WEyEoDTq",
        "colab_type": "code",
        "outputId": "fc1267e7-5fef-4ab3-b71c-8d483ddb984a",
        "colab": {
          "base_uri": "https://localhost:8080/",
          "height": 52
        }
      },
      "source": [
        "#reducing categories for 'Education'\n",
        "#It has : education (categorical: 'basic.4y','basic.6y','basic.9y','high.school','illiterate','professional.course','university.degree','unknown')\n",
        "import numpy as np\n",
        "\n",
        "df['education']=np.where(df['education'] =='basic.9y', 'Basic', df['education'])\n",
        "df['education']=np.where(df['education'] =='basic.6y', 'Basic', df['education'])\n",
        "df['education']=np.where(df['education'] =='basic.4y', 'Basic', df['education'])\n",
        "df['education'].unique()"
      ],
      "execution_count": 0,
      "outputs": [
        {
          "output_type": "execute_result",
          "data": {
            "text/plain": [
              "array(['Basic', 'unknown', 'university.degree', 'high.school',\n",
              "       'professional.course', 'illiterate'], dtype=object)"
            ]
          },
          "metadata": {
            "tags": []
          },
          "execution_count": 3
        }
      ]
    },
    {
      "cell_type": "markdown",
      "metadata": {
        "id": "O2u9kpn0tJxY",
        "colab_type": "text"
      },
      "source": [
        "4) Data Exploratation"
      ]
    },
    {
      "cell_type": "code",
      "metadata": {
        "id": "jvns9YXyoDQI",
        "colab_type": "code",
        "outputId": "425feb44-e848-4be7-815f-b259f68c2848",
        "colab": {
          "base_uri": "https://localhost:8080/",
          "height": 283
        }
      },
      "source": [
        "#Visualize y variable\n",
        "import seaborn as sns\n",
        "import matplotlib.pyplot as plt \n",
        "\n",
        "sns.countplot(x='y',data = df, palette='hls')\n",
        "plt.show()"
      ],
      "execution_count": 0,
      "outputs": [
        {
          "output_type": "display_data",
          "data": {
            "image/png": "[encoded data removed]",
            "text/plain": [
              "<Figure size 432x288 with 1 Axes>"
            ]
          },
          "metadata": {
            "tags": []
          }
        }
      ]
    },
    {
      "cell_type": "code",
      "metadata": {
        "id": "n7TMmZjYut6j",
        "colab_type": "code",
        "outputId": "4cf24096-3c05-4bb7-b386-0d4d01dbf38b",
        "colab": {
          "base_uri": "https://localhost:8080/",
          "height": 51
        }
      },
      "source": [
        "count_no_sub = len(df[df['y']==0])\n",
        "count_sub = len(df[df['y']==1])\n",
        "pct_of_no_sub = count_no_sub/(count_no_sub+count_sub)\n",
        "print(\"percentage of no subscription is\", pct_of_no_sub*100)\n",
        "pct_of_sub = count_sub/(count_no_sub+count_sub)\n",
        "print(\"percentage of subscription\", pct_of_sub*100)"
      ],
      "execution_count": 0,
      "outputs": [
        {
          "output_type": "stream",
          "text": [
            "percentage of no subscription is 88.73458288821988\n",
            "percentage of subscription 11.265417111780131\n"
          ],
          "name": "stdout"
        }
      ]
    },
    {
      "cell_type": "code",
      "metadata": {
        "id": "juNV-PK1u-6l",
        "colab_type": "code",
        "outputId": "53d7f061-00ca-4ab5-e178-dca5a273e208",
        "colab": {
          "base_uri": "https://localhost:8080/",
          "height": 142
        }
      },
      "source": [
        "df.groupby('y').mean()"
      ],
      "execution_count": 0,
      "outputs": [
        {
          "output_type": "execute_result",
          "data": {
            "text/html": [
              "<div>\n",
              "<style scoped>\n",
              "    .dataframe tbody tr th:only-of-type {\n",
              "        vertical-align: middle;\n",
              "    }\n",
              "\n",
              "    .dataframe tbody tr th {\n",
              "        vertical-align: top;\n",
              "    }\n",
              "\n",
              "    .dataframe thead th {\n",
              "        text-align: right;\n",
              "    }\n",
              "</style>\n",
              "<table border=\"1\" class=\"dataframe\">\n",
              "  <thead>\n",
              "    <tr style=\"text-align: right;\">\n",
              "      <th></th>\n",
              "      <th>age</th>\n",
              "      <th>duration</th>\n",
              "      <th>campaign</th>\n",
              "      <th>pdays</th>\n",
              "      <th>previous</th>\n",
              "      <th>emp_var_rate</th>\n",
              "      <th>cons_price_idx</th>\n",
              "      <th>cons_conf_idx</th>\n",
              "      <th>euribor3m</th>\n",
              "      <th>nr_employed</th>\n",
              "    </tr>\n",
              "    <tr>\n",
              "      <th>y</th>\n",
              "      <th></th>\n",
              "      <th></th>\n",
              "      <th></th>\n",
              "      <th></th>\n",
              "      <th></th>\n",
              "      <th></th>\n",
              "      <th></th>\n",
              "      <th></th>\n",
              "      <th></th>\n",
              "      <th></th>\n",
              "    </tr>\n",
              "  </thead>\n",
              "  <tbody>\n",
              "    <tr>\n",
              "      <th>0</th>\n",
              "      <td>39.911185</td>\n",
              "      <td>220.844807</td>\n",
              "      <td>2.633085</td>\n",
              "      <td>984.113878</td>\n",
              "      <td>0.132374</td>\n",
              "      <td>0.248875</td>\n",
              "      <td>93.603757</td>\n",
              "      <td>-40.593097</td>\n",
              "      <td>3.811491</td>\n",
              "      <td>5176.166600</td>\n",
              "    </tr>\n",
              "    <tr>\n",
              "      <th>1</th>\n",
              "      <td>40.913147</td>\n",
              "      <td>553.191164</td>\n",
              "      <td>2.051724</td>\n",
              "      <td>792.035560</td>\n",
              "      <td>0.492672</td>\n",
              "      <td>-1.233448</td>\n",
              "      <td>93.354386</td>\n",
              "      <td>-39.789784</td>\n",
              "      <td>2.123135</td>\n",
              "      <td>5095.115991</td>\n",
              "    </tr>\n",
              "  </tbody>\n",
              "</table>\n",
              "</div>"
            ],
            "text/plain": [
              "         age    duration  campaign  ...  cons_conf_idx  euribor3m  nr_employed\n",
              "y                                   ...                                       \n",
              "0  39.911185  220.844807  2.633085  ...     -40.593097   3.811491  5176.166600\n",
              "1  40.913147  553.191164  2.051724  ...     -39.789784   2.123135  5095.115991\n",
              "\n",
              "[2 rows x 10 columns]"
            ]
          },
          "metadata": {
            "tags": []
          },
          "execution_count": 18
        }
      ]
    },
    {
      "cell_type": "markdown",
      "metadata": {
        "id": "lN4q3fS7WRPH",
        "colab_type": "text"
      },
      "source": [
        "**Observations**\n",
        "1.   Class Imbalance as % of no subscription is more than 88%\n",
        "2.   'pdays' - no of days passed for which the customer is last contacted is lower on average for which customers opt for campaign\n",
        "3.    'duration' of campaign is more for customers that opt for campaign\n",
        "4. 'euribor3m' is greater for customers that opted.\n",
        "5. Average age of customers who bought the term deposit is slightly higher.\n",
        "\n",
        "\n",
        "\n"
      ]
    },
    {
      "cell_type": "code",
      "metadata": {
        "id": "kBsuaEKWv873",
        "colab_type": "code",
        "outputId": "84d74596-fefa-4e23-c667-3aa2f8fcc671",
        "colab": {
          "base_uri": "https://localhost:8080/",
          "height": 235
        }
      },
      "source": [
        "df.groupby('day_of_week').mean()"
      ],
      "execution_count": 0,
      "outputs": [
        {
          "output_type": "execute_result",
          "data": {
            "text/html": [
              "<div>\n",
              "<style scoped>\n",
              "    .dataframe tbody tr th:only-of-type {\n",
              "        vertical-align: middle;\n",
              "    }\n",
              "\n",
              "    .dataframe tbody tr th {\n",
              "        vertical-align: top;\n",
              "    }\n",
              "\n",
              "    .dataframe thead th {\n",
              "        text-align: right;\n",
              "    }\n",
              "</style>\n",
              "<table border=\"1\" class=\"dataframe\">\n",
              "  <thead>\n",
              "    <tr style=\"text-align: right;\">\n",
              "      <th></th>\n",
              "      <th>age</th>\n",
              "      <th>duration</th>\n",
              "      <th>campaign</th>\n",
              "      <th>pdays</th>\n",
              "      <th>previous</th>\n",
              "      <th>emp_var_rate</th>\n",
              "      <th>cons_price_idx</th>\n",
              "      <th>cons_conf_idx</th>\n",
              "      <th>euribor3m</th>\n",
              "      <th>nr_employed</th>\n",
              "      <th>y</th>\n",
              "    </tr>\n",
              "    <tr>\n",
              "      <th>day_of_week</th>\n",
              "      <th></th>\n",
              "      <th></th>\n",
              "      <th></th>\n",
              "      <th></th>\n",
              "      <th></th>\n",
              "      <th></th>\n",
              "      <th></th>\n",
              "      <th></th>\n",
              "      <th></th>\n",
              "      <th></th>\n",
              "      <th></th>\n",
              "    </tr>\n",
              "  </thead>\n",
              "  <tbody>\n",
              "    <tr>\n",
              "      <th>fri</th>\n",
              "      <td>40.177846</td>\n",
              "      <td>252.748818</td>\n",
              "      <td>2.719944</td>\n",
              "      <td>967.793791</td>\n",
              "      <td>0.177463</td>\n",
              "      <td>0.032337</td>\n",
              "      <td>93.578735</td>\n",
              "      <td>-40.532260</td>\n",
              "      <td>3.566249</td>\n",
              "      <td>5165.109799</td>\n",
              "      <td>0.108087</td>\n",
              "    </tr>\n",
              "    <tr>\n",
              "      <th>mon</th>\n",
              "      <td>40.412497</td>\n",
              "      <td>246.568358</td>\n",
              "      <td>2.645760</td>\n",
              "      <td>962.852948</td>\n",
              "      <td>0.171012</td>\n",
              "      <td>0.026063</td>\n",
              "      <td>93.577108</td>\n",
              "      <td>-40.877790</td>\n",
              "      <td>3.542196</td>\n",
              "      <td>5164.568393</td>\n",
              "      <td>0.099483</td>\n",
              "    </tr>\n",
              "    <tr>\n",
              "      <th>thu</th>\n",
              "      <td>39.591557</td>\n",
              "      <td>265.674591</td>\n",
              "      <td>2.595268</td>\n",
              "      <td>959.501913</td>\n",
              "      <td>0.174417</td>\n",
              "      <td>0.058460</td>\n",
              "      <td>93.556380</td>\n",
              "      <td>-40.753323</td>\n",
              "      <td>3.574923</td>\n",
              "      <td>5166.662693</td>\n",
              "      <td>0.121188</td>\n",
              "    </tr>\n",
              "    <tr>\n",
              "      <th>tue</th>\n",
              "      <td>40.427441</td>\n",
              "      <td>260.455995</td>\n",
              "      <td>2.426823</td>\n",
              "      <td>959.715575</td>\n",
              "      <td>0.173053</td>\n",
              "      <td>0.128220</td>\n",
              "      <td>93.577088</td>\n",
              "      <td>-40.034227</td>\n",
              "      <td>3.701038</td>\n",
              "      <td>5168.486094</td>\n",
              "      <td>0.117800</td>\n",
              "    </tr>\n",
              "    <tr>\n",
              "      <th>wed</th>\n",
              "      <td>39.526801</td>\n",
              "      <td>265.883206</td>\n",
              "      <td>2.449840</td>\n",
              "      <td>962.859970</td>\n",
              "      <td>0.169044</td>\n",
              "      <td>0.166745</td>\n",
              "      <td>93.590225</td>\n",
              "      <td>-40.281387</td>\n",
              "      <td>3.726885</td>\n",
              "      <td>5170.425436</td>\n",
              "      <td>0.116671</td>\n",
              "    </tr>\n",
              "  </tbody>\n",
              "</table>\n",
              "</div>"
            ],
            "text/plain": [
              "                   age    duration  campaign  ...  euribor3m  nr_employed         y\n",
              "day_of_week                                   ...                                  \n",
              "fri          40.177846  252.748818  2.719944  ...   3.566249  5165.109799  0.108087\n",
              "mon          40.412497  246.568358  2.645760  ...   3.542196  5164.568393  0.099483\n",
              "thu          39.591557  265.674591  2.595268  ...   3.574923  5166.662693  0.121188\n",
              "tue          40.427441  260.455995  2.426823  ...   3.701038  5168.486094  0.117800\n",
              "wed          39.526801  265.883206  2.449840  ...   3.726885  5170.425436  0.116671\n",
              "\n",
              "[5 rows x 11 columns]"
            ]
          },
          "metadata": {
            "tags": []
          },
          "execution_count": 4
        }
      ]
    },
    {
      "cell_type": "markdown",
      "metadata": {
        "id": "HrSaQwGIwglo",
        "colab_type": "text"
      },
      "source": [
        ""
      ]
    },
    {
      "cell_type": "code",
      "metadata": {
        "id": "zpgZyzgUg_yf",
        "colab_type": "code",
        "outputId": "732a5457-3c2f-414a-9707-4867bd072b18",
        "colab": {
          "base_uri": "https://localhost:8080/",
          "height": 312
        }
      },
      "source": [
        "#how many people take subs on which day\n",
        "import matplotlib.pyplot as plt \n",
        "plt.subplot(1, 2, 1)\n",
        "on = df[df.y == 1]\n",
        "df_week = on.groupby(['day_of_week'])['y'].count()\n",
        "df_week.plot.bar()\n",
        "\n",
        "plt.subplot(1, 2, 2)\n",
        "off = df[df.y == 0]\n",
        "df_week = off.groupby(['day_of_week'])['y'].count()\n",
        "df_week.plot.bar()"
      ],
      "execution_count": 0,
      "outputs": [
        {
          "output_type": "execute_result",
          "data": {
            "text/plain": [
              "<matplotlib.axes._subplots.AxesSubplot at 0x7fad66c09c18>"
            ]
          },
          "metadata": {
            "tags": []
          },
          "execution_count": 5
        },
        {
          "output_type": "display_data",
          "data": {
            "image/png": "[encoded data removed]",
            "text/plain": [
              "<Figure size 432x288 with 2 Axes>"
            ]
          },
          "metadata": {
            "tags": []
          }
        }
      ]
    },
    {
      "cell_type": "code",
      "metadata": {
        "id": "p0HoOazHwgKl",
        "colab_type": "code",
        "outputId": "4b9949b6-1a63-4b06-c95f-268aa28b5a91",
        "colab": {
          "base_uri": "https://localhost:8080/",
          "height": 308
        }
      },
      "source": [
        "#what is the trend by month\n",
        "import matplotlib.pyplot as plt \n",
        "#month\n",
        "plt.subplot(1, 2, 1)\n",
        "on = df[df.y == 1]\n",
        "df_week = on.groupby(['month'])['y'].count()\n",
        "df_week.plot.bar()\n",
        "\n",
        "plt.subplot(1, 2, 2)\n",
        "off = df[df.y == 0]\n",
        "df_week = off.groupby(['month'])['y'].count()\n",
        "df_week.plot.bar()"
      ],
      "execution_count": 0,
      "outputs": [
        {
          "output_type": "execute_result",
          "data": {
            "text/plain": [
              "<matplotlib.axes._subplots.AxesSubplot at 0x7fad67205ba8>"
            ]
          },
          "metadata": {
            "tags": []
          },
          "execution_count": 9
        },
        {
          "output_type": "display_data",
          "data": {
            "image/png": "[encoded data removed]",
            "text/plain": [
              "<Figure size 432x288 with 2 Axes>"
            ]
          },
          "metadata": {
            "tags": []
          }
        }
      ]
    },
    {
      "cell_type": "code",
      "metadata": {
        "id": "8nU7jM7QgVZC",
        "colab_type": "code",
        "outputId": "ba92ef0c-31d2-421f-93cf-be227c777801",
        "colab": {
          "base_uri": "https://localhost:8080/",
          "height": 394
        }
      },
      "source": [
        "df.groupby('month').mean()"
      ],
      "execution_count": 0,
      "outputs": [
        {
          "output_type": "execute_result",
          "data": {
            "text/html": [
              "<div>\n",
              "<style scoped>\n",
              "    .dataframe tbody tr th:only-of-type {\n",
              "        vertical-align: middle;\n",
              "    }\n",
              "\n",
              "    .dataframe tbody tr th {\n",
              "        vertical-align: top;\n",
              "    }\n",
              "\n",
              "    .dataframe thead th {\n",
              "        text-align: right;\n",
              "    }\n",
              "</style>\n",
              "<table border=\"1\" class=\"dataframe\">\n",
              "  <thead>\n",
              "    <tr style=\"text-align: right;\">\n",
              "      <th></th>\n",
              "      <th>age</th>\n",
              "      <th>duration</th>\n",
              "      <th>campaign</th>\n",
              "      <th>pdays</th>\n",
              "      <th>previous</th>\n",
              "      <th>emp_var_rate</th>\n",
              "      <th>cons_price_idx</th>\n",
              "      <th>cons_conf_idx</th>\n",
              "      <th>euribor3m</th>\n",
              "      <th>nr_employed</th>\n",
              "      <th>y</th>\n",
              "    </tr>\n",
              "    <tr>\n",
              "      <th>month</th>\n",
              "      <th></th>\n",
              "      <th></th>\n",
              "      <th></th>\n",
              "      <th></th>\n",
              "      <th></th>\n",
              "      <th></th>\n",
              "      <th></th>\n",
              "      <th></th>\n",
              "      <th></th>\n",
              "      <th></th>\n",
              "      <th></th>\n",
              "    </tr>\n",
              "  </thead>\n",
              "  <tbody>\n",
              "    <tr>\n",
              "      <th>apr</th>\n",
              "      <td>40.593845</td>\n",
              "      <td>293.200608</td>\n",
              "      <td>1.947188</td>\n",
              "      <td>955.587386</td>\n",
              "      <td>0.323328</td>\n",
              "      <td>-1.800000</td>\n",
              "      <td>93.119558</td>\n",
              "      <td>-46.273632</td>\n",
              "      <td>1.361070</td>\n",
              "      <td>5093.123708</td>\n",
              "      <td>0.204787</td>\n",
              "    </tr>\n",
              "    <tr>\n",
              "      <th>aug</th>\n",
              "      <td>41.644221</td>\n",
              "      <td>232.430722</td>\n",
              "      <td>2.666559</td>\n",
              "      <td>961.062156</td>\n",
              "      <td>0.115410</td>\n",
              "      <td>0.747151</td>\n",
              "      <td>93.311065</td>\n",
              "      <td>-35.597184</td>\n",
              "      <td>4.300623</td>\n",
              "      <td>5200.248349</td>\n",
              "      <td>0.106021</td>\n",
              "    </tr>\n",
              "    <tr>\n",
              "      <th>dec</th>\n",
              "      <td>47.307692</td>\n",
              "      <td>345.609890</td>\n",
              "      <td>2.159341</td>\n",
              "      <td>748.060440</td>\n",
              "      <td>0.615385</td>\n",
              "      <td>-2.846154</td>\n",
              "      <td>92.715363</td>\n",
              "      <td>-33.708791</td>\n",
              "      <td>0.865319</td>\n",
              "      <td>5031.895604</td>\n",
              "      <td>0.489011</td>\n",
              "    </tr>\n",
              "    <tr>\n",
              "      <th>jul</th>\n",
              "      <td>39.035545</td>\n",
              "      <td>273.426122</td>\n",
              "      <td>3.160998</td>\n",
              "      <td>982.700725</td>\n",
              "      <td>0.047115</td>\n",
              "      <td>1.158921</td>\n",
              "      <td>93.894923</td>\n",
              "      <td>-42.370170</td>\n",
              "      <td>4.685678</td>\n",
              "      <td>5214.078575</td>\n",
              "      <td>0.090466</td>\n",
              "    </tr>\n",
              "    <tr>\n",
              "      <th>jun</th>\n",
              "      <td>39.766077</td>\n",
              "      <td>242.561301</td>\n",
              "      <td>3.072208</td>\n",
              "      <td>970.221512</td>\n",
              "      <td>0.083114</td>\n",
              "      <td>0.688379</td>\n",
              "      <td>94.245402</td>\n",
              "      <td>-41.579428</td>\n",
              "      <td>4.256908</td>\n",
              "      <td>5197.493193</td>\n",
              "      <td>0.105115</td>\n",
              "    </tr>\n",
              "    <tr>\n",
              "      <th>mar</th>\n",
              "      <td>40.778388</td>\n",
              "      <td>245.946886</td>\n",
              "      <td>2.203297</td>\n",
              "      <td>835.454212</td>\n",
              "      <td>0.483516</td>\n",
              "      <td>-1.800000</td>\n",
              "      <td>93.097330</td>\n",
              "      <td>-42.650549</td>\n",
              "      <td>1.162745</td>\n",
              "      <td>5055.390110</td>\n",
              "      <td>0.505495</td>\n",
              "    </tr>\n",
              "    <tr>\n",
              "      <th>may</th>\n",
              "      <td>39.031084</td>\n",
              "      <td>261.231752</td>\n",
              "      <td>2.439756</td>\n",
              "      <td>981.120415</td>\n",
              "      <td>0.164209</td>\n",
              "      <td>-0.164972</td>\n",
              "      <td>93.528882</td>\n",
              "      <td>-40.579272</td>\n",
              "      <td>3.293665</td>\n",
              "      <td>5149.521592</td>\n",
              "      <td>0.064347</td>\n",
              "    </tr>\n",
              "    <tr>\n",
              "      <th>nov</th>\n",
              "      <td>40.965618</td>\n",
              "      <td>245.855645</td>\n",
              "      <td>1.909290</td>\n",
              "      <td>952.950256</td>\n",
              "      <td>0.293587</td>\n",
              "      <td>-0.418483</td>\n",
              "      <td>93.200943</td>\n",
              "      <td>-41.238747</td>\n",
              "      <td>3.723123</td>\n",
              "      <td>5173.031236</td>\n",
              "      <td>0.101439</td>\n",
              "    </tr>\n",
              "    <tr>\n",
              "      <th>oct</th>\n",
              "      <td>44.171309</td>\n",
              "      <td>288.367688</td>\n",
              "      <td>1.545961</td>\n",
              "      <td>781.909471</td>\n",
              "      <td>0.647632</td>\n",
              "      <td>-2.438579</td>\n",
              "      <td>93.175107</td>\n",
              "      <td>-34.580919</td>\n",
              "      <td>1.200123</td>\n",
              "      <td>5018.823816</td>\n",
              "      <td>0.438719</td>\n",
              "    </tr>\n",
              "    <tr>\n",
              "      <th>sep</th>\n",
              "      <td>43.621053</td>\n",
              "      <td>297.705263</td>\n",
              "      <td>1.773684</td>\n",
              "      <td>718.501754</td>\n",
              "      <td>0.831579</td>\n",
              "      <td>-2.177368</td>\n",
              "      <td>93.346474</td>\n",
              "      <td>-33.893158</td>\n",
              "      <td>0.834760</td>\n",
              "      <td>4988.847895</td>\n",
              "      <td>0.449123</td>\n",
              "    </tr>\n",
              "  </tbody>\n",
              "</table>\n",
              "</div>"
            ],
            "text/plain": [
              "             age    duration  campaign  ...  euribor3m  nr_employed         y\n",
              "month                                   ...                                  \n",
              "apr    40.593845  293.200608  1.947188  ...   1.361070  5093.123708  0.204787\n",
              "aug    41.644221  232.430722  2.666559  ...   4.300623  5200.248349  0.106021\n",
              "dec    47.307692  345.609890  2.159341  ...   0.865319  5031.895604  0.489011\n",
              "jul    39.035545  273.426122  3.160998  ...   4.685678  5214.078575  0.090466\n",
              "jun    39.766077  242.561301  3.072208  ...   4.256908  5197.493193  0.105115\n",
              "mar    40.778388  245.946886  2.203297  ...   1.162745  5055.390110  0.505495\n",
              "may    39.031084  261.231752  2.439756  ...   3.293665  5149.521592  0.064347\n",
              "nov    40.965618  245.855645  1.909290  ...   3.723123  5173.031236  0.101439\n",
              "oct    44.171309  288.367688  1.545961  ...   1.200123  5018.823816  0.438719\n",
              "sep    43.621053  297.705263  1.773684  ...   0.834760  4988.847895  0.449123\n",
              "\n",
              "[10 rows x 11 columns]"
            ]
          },
          "metadata": {
            "tags": []
          },
          "execution_count": 3
        }
      ]
    },
    {
      "cell_type": "markdown",
      "metadata": {
        "id": "IVf5wVyH65fF",
        "colab_type": "text"
      },
      "source": [
        "-seeing avg per month, euribor rates are more"
      ]
    },
    {
      "cell_type": "markdown",
      "metadata": {
        "id": "S45e8RSs7TlP",
        "colab_type": "text"
      },
      "source": [
        "EVALUATING PREDICTORS FOR OUTCOME VARIABLE"
      ]
    },
    {
      "cell_type": "code",
      "metadata": {
        "id": "RnQ87eXF65KE",
        "colab_type": "code",
        "outputId": "c47bb770-012a-426d-bbf8-a046604c20bd",
        "colab": {
          "base_uri": "https://localhost:8080/",
          "height": 373
        }
      },
      "source": [
        "import matplotlib.pyplot as plt\n",
        "pd.crosstab(df.job,df.y).plot(kind='bar')\n",
        "plt.title('Purchase Frequency graph for Job Title')\n",
        "plt.xlabel('Job Titles')\n",
        "plt.ylabel('Frequency of Purchase')\n",
        "\n",
        "#The frequency of purchase of the deposit depends a great deal on the job title. Thus, the job title can be a good predictor of the outcome variable."
      ],
      "execution_count": 0,
      "outputs": [
        {
          "output_type": "execute_result",
          "data": {
            "text/plain": [
              "Text(0, 0.5, 'Frequency of Purchase')"
            ]
          },
          "metadata": {
            "tags": []
          },
          "execution_count": 7
        },
        {
          "output_type": "display_data",
          "data": {
            "image/png": "[encoded data removed]",
            "text/plain": [
              "<Figure size 432x288 with 1 Axes>"
            ]
          },
          "metadata": {
            "tags": []
          }
        }
      ]
    },
    {
      "cell_type": "code",
      "metadata": {
        "id": "NWjYscC070Ad",
        "colab_type": "code",
        "outputId": "21b55fc6-b932-4801-8f4b-0a85382d092a",
        "colab": {
          "base_uri": "https://localhost:8080/",
          "height": 331
        }
      },
      "source": [
        "table=pd.crosstab(df.marital,df.y)\n",
        "table.div(table.sum(1).astype(float), axis=0).plot(kind='bar', stacked=True)\n",
        "plt.title('Stacked Bar Chart of Marital Status vs Purchase')\n",
        "plt.xlabel('Marital Status')\n",
        "plt.ylabel('Proportion of Customers')\n",
        "plt.savefig('mariral_vs_pur_stack')\n",
        "#not a good predictor"
      ],
      "execution_count": 0,
      "outputs": [
        {
          "output_type": "display_data",
          "data": {
            "image/png": "[encoded data removed]",
            "text/plain": [
              "<Figure size 432x288 with 1 Axes>"
            ]
          },
          "metadata": {
            "tags": []
          }
        }
      ]
    },
    {
      "cell_type": "code",
      "metadata": {
        "id": "QIJpLa2a7-9j",
        "colab_type": "code",
        "outputId": "67377cbb-0ac7-45a0-d33c-95f4360f561f",
        "colab": {
          "base_uri": "https://localhost:8080/",
          "height": 383
        }
      },
      "source": [
        "table=pd.crosstab(df.education,df.y)\n",
        "table.div(table.sum(1).astype(float), axis=0).plot(kind='bar', stacked=True)\n",
        "plt.title('Stacked Bar Chart of Education vs Purchase')\n",
        "plt.xlabel('Education')\n",
        "plt.ylabel('Proportion of Customers')\n",
        "plt.savefig('edu_vs_pur_stack')\n",
        "\n",
        "#seems good"
      ],
      "execution_count": 0,
      "outputs": [
        {
          "output_type": "display_data",
          "data": {
            "image/png": "[encoded data removed]",
            "text/plain": [
              "<Figure size 432x288 with 1 Axes>"
            ]
          },
          "metadata": {
            "tags": []
          }
        }
      ]
    },
    {
      "cell_type": "code",
      "metadata": {
        "id": "HA9_1r7C9aJs",
        "colab_type": "code",
        "outputId": "aadc28e9-2617-49b0-fcfb-921129d1d84b",
        "colab": {
          "base_uri": "https://localhost:8080/",
          "height": 324
        }
      },
      "source": [
        "import matplotlib.pyplot as plt\n",
        "pd.crosstab(df.day_of_week,df.y).plot(kind='bar')\n",
        "plt.title('Purchase Frequency graph for Day of Week')\n",
        "plt.xlabel('Day of Week')\n",
        "plt.ylabel('Frequency of Purchase')\n",
        "\n",
        "#not good"
      ],
      "execution_count": 0,
      "outputs": [
        {
          "output_type": "execute_result",
          "data": {
            "text/plain": [
              "Text(0, 0.5, 'Frequency of Purchase')"
            ]
          },
          "metadata": {
            "tags": []
          },
          "execution_count": 12
        },
        {
          "output_type": "display_data",
          "data": {
            "image/png": "[encoded data removed]",
            "text/plain": [
              "<Figure size 432x288 with 1 Axes>"
            ]
          },
          "metadata": {
            "tags": []
          }
        }
      ]
    },
    {
      "cell_type": "code",
      "metadata": {
        "id": "YniyUkqF9xd4",
        "colab_type": "code",
        "outputId": "a668006f-5e34-450e-831b-f5d1f95393d8",
        "colab": {
          "base_uri": "https://localhost:8080/",
          "height": 324
        }
      },
      "source": [
        "pd.crosstab(df.month,df.y).plot(kind='bar')\n",
        "plt.title('Purchase Frequency for Month')\n",
        "plt.xlabel('Month')\n",
        "plt.ylabel('Frequency of Purchase')\n",
        "\n",
        "#seems good"
      ],
      "execution_count": 0,
      "outputs": [
        {
          "output_type": "execute_result",
          "data": {
            "text/plain": [
              "Text(0, 0.5, 'Frequency of Purchase')"
            ]
          },
          "metadata": {
            "tags": []
          },
          "execution_count": 14
        },
        {
          "output_type": "display_data",
          "data": {
            "image/png": "[encoded data removed]",
            "text/plain": [
              "<Figure size 432x288 with 1 Axes>"
            ]
          },
          "metadata": {
            "tags": []
          }
        }
      ]
    },
    {
      "cell_type": "code",
      "metadata": {
        "id": "vcaF6QbsHFH9",
        "colab_type": "code",
        "outputId": "953b0028-13d8-46b8-a197-e1da159efcf7",
        "colab": {
          "base_uri": "https://localhost:8080/",
          "height": 348
        }
      },
      "source": [
        "pd.crosstab(df.default,df.y).plot(kind='bar')\n",
        "plt.title('Purchase Frequency for Defaulters')\n",
        "plt.xlabel('Default')\n",
        "plt.ylabel('Frequency of Purchase')\n",
        "\n",
        "#cant say as there are no yes cases"
      ],
      "execution_count": 0,
      "outputs": [
        {
          "output_type": "execute_result",
          "data": {
            "text/plain": [
              "Text(0, 0.5, 'Frequency of Purchase')"
            ]
          },
          "metadata": {
            "tags": []
          },
          "execution_count": 17
        },
        {
          "output_type": "display_data",
          "data": {
            "image/png": "[encoded data removed]",
            "text/plain": [
              "<Figure size 432x288 with 1 Axes>"
            ]
          },
          "metadata": {
            "tags": []
          }
        }
      ]
    },
    {
      "cell_type": "code",
      "metadata": {
        "id": "Yt5xtxbZHYw3",
        "colab_type": "code",
        "outputId": "c8d86ae7-77d3-4cb0-9028-30f4c2b85399",
        "colab": {
          "base_uri": "https://localhost:8080/",
          "height": 348
        }
      },
      "source": [
        "pd.crosstab(df.housing,df.y).plot(kind='bar')\n",
        "plt.title('Purchase Frequency with respect to housing')\n",
        "plt.xlabel('Housing')\n",
        "plt.ylabel('Frequency of Purchase')\n",
        "\n",
        "#not good"
      ],
      "execution_count": 0,
      "outputs": [
        {
          "output_type": "execute_result",
          "data": {
            "text/plain": [
              "Text(0, 0.5, 'Frequency of Purchase')"
            ]
          },
          "metadata": {
            "tags": []
          },
          "execution_count": 18
        },
        {
          "output_type": "display_data",
          "data": {
            "image/png": "[encoded data removed]",
            "text/plain": [
              "<Figure size 432x288 with 1 Axes>"
            ]
          },
          "metadata": {
            "tags": []
          }
        }
      ]
    },
    {
      "cell_type": "code",
      "metadata": {
        "id": "R5hcOGOwHjoh",
        "colab_type": "code",
        "outputId": "a4a79ba8-7033-4f57-8dae-a6e9c132f85e",
        "colab": {
          "base_uri": "https://localhost:8080/",
          "height": 348
        }
      },
      "source": [
        "pd.crosstab(df.loan,df.y).plot(kind='bar')\n",
        "plt.title('Purchase Frequency for Loan')\n",
        "plt.xlabel('Loan')\n",
        "plt.ylabel('Frequency of Purchase')\n",
        "\n",
        "#seems good"
      ],
      "execution_count": 0,
      "outputs": [
        {
          "output_type": "execute_result",
          "data": {
            "text/plain": [
              "Text(0, 0.5, 'Frequency of Purchase')"
            ]
          },
          "metadata": {
            "tags": []
          },
          "execution_count": 19
        },
        {
          "output_type": "display_data",
          "data": {
            "image/png": "[encoded data removed]",
            "text/plain": [
              "<Figure size 432x288 with 1 Axes>"
            ]
          },
          "metadata": {
            "tags": []
          }
        }
      ]
    },
    {
      "cell_type": "code",
      "metadata": {
        "id": "DzNyqTRULcly",
        "colab_type": "code",
        "outputId": "282b5351-4318-467a-dcc3-60d45c24b37b",
        "colab": {
          "base_uri": "https://localhost:8080/",
          "height": 352
        }
      },
      "source": [
        "pd.crosstab(df.contact,df.y).plot(kind='bar')\n",
        "plt.title('Purchase Frequency for Contact')\n",
        "plt.xlabel('Contact')\n",
        "plt.ylabel('Frequency of Purchase')\n",
        "\n",
        "#seems good"
      ],
      "execution_count": 0,
      "outputs": [
        {
          "output_type": "execute_result",
          "data": {
            "text/plain": [
              "Text(0, 0.5, 'Frequency of Purchase')"
            ]
          },
          "metadata": {
            "tags": []
          },
          "execution_count": 20
        },
        {
          "output_type": "display_data",
          "data": {
            "image/png": "[encoded data removed]",
            "text/plain": [
              "<Figure size 432x288 with 1 Axes>"
            ]
          },
          "metadata": {
            "tags": []
          }
        }
      ]
    },
    {
      "cell_type": "code",
      "metadata": {
        "id": "dIK6EvXPLvHj",
        "colab_type": "code",
        "outputId": "994f287c-b5b5-4af2-daa3-aacab2881ccb",
        "colab": {
          "base_uri": "https://localhost:8080/",
          "height": 361
        }
      },
      "source": [
        "pd.crosstab(df.poutcome,df.y).plot(kind='bar')\n",
        "plt.title('Purchase Frequency for Previous outcome of marketing campaign')\n",
        "plt.xlabel('Previous outcome of marketing campaign')\n",
        "plt.ylabel('Frequency of Purchase')\n",
        "#seems good"
      ],
      "execution_count": 0,
      "outputs": [
        {
          "output_type": "execute_result",
          "data": {
            "text/plain": [
              "Text(0, 0.5, 'Frequency of Purchase')"
            ]
          },
          "metadata": {
            "tags": []
          },
          "execution_count": 21
        },
        {
          "output_type": "display_data",
          "data": {
            "image/png": "[encoded data removed]",
            "text/plain": [
              "<Figure size 432x288 with 1 Axes>"
            ]
          },
          "metadata": {
            "tags": []
          }
        }
      ]
    },
    {
      "cell_type": "code",
      "metadata": {
        "id": "zZNJTwmWFvfM",
        "colab_type": "code",
        "outputId": "06d43094-4dc5-4986-de65-6d1bebae1bfa",
        "colab": {
          "base_uri": "https://localhost:8080/",
          "height": 312
        }
      },
      "source": [
        "df.age.hist()\n",
        "plt.title('Histogram of Age')\n",
        "plt.xlabel('Age')\n",
        "plt.ylabel('Frequency')\n",
        "\n",
        "#most customers are in range of 30-40"
      ],
      "execution_count": 0,
      "outputs": [
        {
          "output_type": "execute_result",
          "data": {
            "text/plain": [
              "Text(0, 0.5, 'Frequency')"
            ]
          },
          "metadata": {
            "tags": []
          },
          "execution_count": 16
        },
        {
          "output_type": "display_data",
          "data": {
            "image/png": "[encoded data removed]",
            "text/plain": [
              "<Figure size 432x288 with 1 Axes>"
            ]
          },
          "metadata": {
            "tags": []
          }
        }
      ]
    },
    {
      "cell_type": "markdown",
      "metadata": {
        "id": "iZt1zPCfMex0",
        "colab_type": "text"
      },
      "source": [
        "CREATE DUMMY VARIABLES"
      ]
    },
    {
      "cell_type": "code",
      "metadata": {
        "id": "7tbcGF8WMeP1",
        "colab_type": "code",
        "colab": {}
      },
      "source": [
        ""
      ],
      "execution_count": 0,
      "outputs": []
    },
    {
      "cell_type": "code",
      "metadata": {
        "id": "OKPVU3bYGAy6",
        "colab_type": "code",
        "colab": {}
      },
      "source": [
        "data = df\n",
        "cat_vars=['job','marital','education','default','housing','loan','contact','month','day_of_week','poutcome']\n",
        "for var in cat_vars:\n",
        "    cat_list='var'+'_'+var\n",
        "    cat_list = pd.get_dummies(data[var], prefix=var)\n",
        "    data1=data.join(cat_list)\n",
        "    data=data1\n",
        "cat_vars=['job','marital','education','default','housing','loan','contact','month','day_of_week','poutcome']\n",
        "data_vars=data.columns.values.tolist()\n",
        "to_keep=[i for i in data_vars if i not in cat_vars]"
      ],
      "execution_count": 0,
      "outputs": []
    },
    {
      "cell_type": "code",
      "metadata": {
        "id": "UptTNdSAOwO1",
        "colab_type": "code",
        "outputId": "a8b5e990-7ad7-4d97-98d0-2e953ef41902",
        "colab": {
          "base_uri": "https://localhost:8080/",
          "height": 330
        }
      },
      "source": [
        "data_final=data[to_keep]\n",
        "data_final.columns.values"
      ],
      "execution_count": 0,
      "outputs": [
        {
          "output_type": "execute_result",
          "data": {
            "text/plain": [
              "array(['age', 'duration', 'campaign', 'pdays', 'previous', 'emp_var_rate',\n",
              "       'cons_price_idx', 'cons_conf_idx', 'euribor3m', 'nr_employed', 'y',\n",
              "       'job_admin.', 'job_blue-collar', 'job_entrepreneur',\n",
              "       'job_housemaid', 'job_management', 'job_retired',\n",
              "       'job_self-employed', 'job_services', 'job_student',\n",
              "       'job_technician', 'job_unemployed', 'job_unknown',\n",
              "       'marital_divorced', 'marital_married', 'marital_single',\n",
              "       'marital_unknown', 'education_Basic', 'education_high.school',\n",
              "       'education_illiterate', 'education_professional.course',\n",
              "       'education_university.degree', 'education_unknown', 'default_no',\n",
              "       'default_unknown', 'default_yes', 'housing_no', 'housing_unknown',\n",
              "       'housing_yes', 'loan_no', 'loan_unknown', 'loan_yes',\n",
              "       'contact_cellular', 'contact_telephone', 'month_apr', 'month_aug',\n",
              "       'month_dec', 'month_jul', 'month_jun', 'month_mar', 'month_may',\n",
              "       'month_nov', 'month_oct', 'month_sep', 'day_of_week_fri',\n",
              "       'day_of_week_mon', 'day_of_week_thu', 'day_of_week_tue',\n",
              "       'day_of_week_wed', 'poutcome_failure', 'poutcome_nonexistent',\n",
              "       'poutcome_success'], dtype=object)"
            ]
          },
          "metadata": {
            "tags": []
          },
          "execution_count": 5
        }
      ]
    },
    {
      "cell_type": "markdown",
      "metadata": {
        "id": "P8RuTctfRTCp",
        "colab_type": "text"
      },
      "source": [
        "Over-sampling using SMOTE"
      ]
    },
    {
      "cell_type": "code",
      "metadata": {
        "id": "I2AfTcvXRSzq",
        "colab_type": "code",
        "outputId": "03d426f8-cf49-4e66-eb70-ee398e13a202",
        "colab": {
          "base_uri": "https://localhost:8080/",
          "height": 159
        }
      },
      "source": [
        "from sklearn.model_selection import train_test_split\n",
        "\n",
        "X = data_final.loc[:, data_final.columns != 'y']\n",
        "y = data_final.loc[:, data_final.columns == 'y']\n",
        "\n",
        "from imblearn.over_sampling import SMOTE\n",
        "\n",
        "os = SMOTE(random_state=0)\n",
        "X_train, X_test, y_train, y_test = train_test_split(X, y, test_size=0.3, random_state=0)\n",
        "columns = X_train.columns\n",
        "\n",
        "os_data_X,os_data_y=os.fit_sample(X_train, y_train)\n",
        "os_data_X = pd.DataFrame(data=os_data_X,columns=columns )\n",
        "os_data_y= pd.DataFrame(data=os_data_y,columns=['y'])\n",
        "# we can Check the numbers of our data\n",
        "print(\"length of oversampled data is \",len(os_data_X))\n",
        "print(\"Number of no subscription in oversampled data\",len(os_data_y[os_data_y['y']==0]))\n",
        "print(\"Number of subscription\",len(os_data_y[os_data_y['y']==1]))\n",
        "print(\"Proportion of no subscription data in oversampled data is \",len(os_data_y[os_data_y['y']==0])/len(os_data_X))\n",
        "print(\"Proportion of subscription data in oversampled data is \",len(os_data_y[os_data_y['y']==1])/len(os_data_X))"
      ],
      "execution_count": 0,
      "outputs": [
        {
          "output_type": "stream",
          "text": [
            "/usr/local/lib/python3.6/dist-packages/sklearn/utils/validation.py:724: DataConversionWarning: A column-vector y was passed when a 1d array was expected. Please change the shape of y to (n_samples, ), for example using ravel().\n",
            "  y = column_or_1d(y, warn=True)\n"
          ],
          "name": "stderr"
        },
        {
          "output_type": "stream",
          "text": [
            "length of oversampled data is  51134\n",
            "Number of no subscription in oversampled data 25567\n",
            "Number of subscription 25567\n",
            "Proportion of no subscription data in oversampled data is  0.5\n",
            "Proportion of subscription data in oversampled data is  0.5\n"
          ],
          "name": "stdout"
        }
      ]
    },
    {
      "cell_type": "markdown",
      "metadata": {
        "id": "WK0qxzoffzG8",
        "colab_type": "text"
      },
      "source": [
        "Recursive Feature Elimination"
      ]
    },
    {
      "cell_type": "code",
      "metadata": {
        "id": "Bebn3DdNOwtO",
        "colab_type": "code",
        "outputId": "b56133c3-cc4d-420b-e6d7-8b8145f3cfdf",
        "colab": {
          "base_uri": "https://localhost:8080/",
          "height": 1000
        }
      },
      "source": [
        "data_final_vars=data_final.columns.values.tolist()\n",
        "y=['y']\n",
        "X=[i for i in data_final_vars if i not in y]\n",
        "\n",
        "from sklearn.feature_selection import RFE\n",
        "from sklearn.linear_model import LogisticRegression\n",
        "\n",
        "logreg = LogisticRegression()\n",
        "rfe = RFE(logreg, 20)\n",
        "rfe = rfe.fit(os_data_X, os_data_y.values.ravel())\n",
        "print(rfe.support_)\n",
        "print(rfe.ranking_)"
      ],
      "execution_count": 0,
      "outputs": [
        {
          "output_type": "stream",
          "text": [
            "/usr/local/lib/python3.6/dist-packages/sklearn/linear_model/logistic.py:432: FutureWarning: Default solver will be changed to 'lbfgs' in 0.22. Specify a solver to silence this warning.\n",
            "  FutureWarning)\n",
            "/usr/local/lib/python3.6/dist-packages/sklearn/linear_model/logistic.py:432: FutureWarning: Default solver will be changed to 'lbfgs' in 0.22. Specify a solver to silence this warning.\n",
            "  FutureWarning)\n",
            "/usr/local/lib/python3.6/dist-packages/sklearn/linear_model/logistic.py:432: FutureWarning: Default solver will be changed to 'lbfgs' in 0.22. Specify a solver to silence this warning.\n",
            "  FutureWarning)\n",
            "/usr/local/lib/python3.6/dist-packages/sklearn/linear_model/logistic.py:432: FutureWarning: Default solver will be changed to 'lbfgs' in 0.22. Specify a solver to silence this warning.\n",
            "  FutureWarning)\n",
            "/usr/local/lib/python3.6/dist-packages/sklearn/linear_model/logistic.py:432: FutureWarning: Default solver will be changed to 'lbfgs' in 0.22. Specify a solver to silence this warning.\n",
            "  FutureWarning)\n",
            "/usr/local/lib/python3.6/dist-packages/sklearn/linear_model/logistic.py:432: FutureWarning: Default solver will be changed to 'lbfgs' in 0.22. Specify a solver to silence this warning.\n",
            "  FutureWarning)\n",
            "/usr/local/lib/python3.6/dist-packages/sklearn/linear_model/logistic.py:432: FutureWarning: Default solver will be changed to 'lbfgs' in 0.22. Specify a solver to silence this warning.\n",
            "  FutureWarning)\n",
            "/usr/local/lib/python3.6/dist-packages/sklearn/linear_model/logistic.py:432: FutureWarning: Default solver will be changed to 'lbfgs' in 0.22. Specify a solver to silence this warning.\n",
            "  FutureWarning)\n",
            "/usr/local/lib/python3.6/dist-packages/sklearn/linear_model/logistic.py:432: FutureWarning: Default solver will be changed to 'lbfgs' in 0.22. Specify a solver to silence this warning.\n",
            "  FutureWarning)\n",
            "/usr/local/lib/python3.6/dist-packages/sklearn/linear_model/logistic.py:432: FutureWarning: Default solver will be changed to 'lbfgs' in 0.22. Specify a solver to silence this warning.\n",
            "  FutureWarning)\n",
            "/usr/local/lib/python3.6/dist-packages/sklearn/linear_model/logistic.py:432: FutureWarning: Default solver will be changed to 'lbfgs' in 0.22. Specify a solver to silence this warning.\n",
            "  FutureWarning)\n",
            "/usr/local/lib/python3.6/dist-packages/sklearn/linear_model/logistic.py:432: FutureWarning: Default solver will be changed to 'lbfgs' in 0.22. Specify a solver to silence this warning.\n",
            "  FutureWarning)\n",
            "/usr/local/lib/python3.6/dist-packages/sklearn/linear_model/logistic.py:432: FutureWarning: Default solver will be changed to 'lbfgs' in 0.22. Specify a solver to silence this warning.\n",
            "  FutureWarning)\n",
            "/usr/local/lib/python3.6/dist-packages/sklearn/linear_model/logistic.py:432: FutureWarning: Default solver will be changed to 'lbfgs' in 0.22. Specify a solver to silence this warning.\n",
            "  FutureWarning)\n",
            "/usr/local/lib/python3.6/dist-packages/sklearn/linear_model/logistic.py:432: FutureWarning: Default solver will be changed to 'lbfgs' in 0.22. Specify a solver to silence this warning.\n",
            "  FutureWarning)\n",
            "/usr/local/lib/python3.6/dist-packages/sklearn/linear_model/logistic.py:432: FutureWarning: Default solver will be changed to 'lbfgs' in 0.22. Specify a solver to silence this warning.\n",
            "  FutureWarning)\n",
            "/usr/local/lib/python3.6/dist-packages/sklearn/linear_model/logistic.py:432: FutureWarning: Default solver will be changed to 'lbfgs' in 0.22. Specify a solver to silence this warning.\n",
            "  FutureWarning)\n",
            "/usr/local/lib/python3.6/dist-packages/sklearn/linear_model/logistic.py:432: FutureWarning: Default solver will be changed to 'lbfgs' in 0.22. Specify a solver to silence this warning.\n",
            "  FutureWarning)\n",
            "/usr/local/lib/python3.6/dist-packages/sklearn/linear_model/logistic.py:432: FutureWarning: Default solver will be changed to 'lbfgs' in 0.22. Specify a solver to silence this warning.\n",
            "  FutureWarning)\n",
            "/usr/local/lib/python3.6/dist-packages/sklearn/linear_model/logistic.py:432: FutureWarning: Default solver will be changed to 'lbfgs' in 0.22. Specify a solver to silence this warning.\n",
            "  FutureWarning)\n",
            "/usr/local/lib/python3.6/dist-packages/sklearn/linear_model/logistic.py:432: FutureWarning: Default solver will be changed to 'lbfgs' in 0.22. Specify a solver to silence this warning.\n",
            "  FutureWarning)\n",
            "/usr/local/lib/python3.6/dist-packages/sklearn/linear_model/logistic.py:432: FutureWarning: Default solver will be changed to 'lbfgs' in 0.22. Specify a solver to silence this warning.\n",
            "  FutureWarning)\n",
            "/usr/local/lib/python3.6/dist-packages/sklearn/linear_model/logistic.py:432: FutureWarning: Default solver will be changed to 'lbfgs' in 0.22. Specify a solver to silence this warning.\n",
            "  FutureWarning)\n",
            "/usr/local/lib/python3.6/dist-packages/sklearn/linear_model/logistic.py:432: FutureWarning: Default solver will be changed to 'lbfgs' in 0.22. Specify a solver to silence this warning.\n",
            "  FutureWarning)\n",
            "/usr/local/lib/python3.6/dist-packages/sklearn/linear_model/logistic.py:432: FutureWarning: Default solver will be changed to 'lbfgs' in 0.22. Specify a solver to silence this warning.\n",
            "  FutureWarning)\n",
            "/usr/local/lib/python3.6/dist-packages/sklearn/linear_model/logistic.py:432: FutureWarning: Default solver will be changed to 'lbfgs' in 0.22. Specify a solver to silence this warning.\n",
            "  FutureWarning)\n",
            "/usr/local/lib/python3.6/dist-packages/sklearn/linear_model/logistic.py:432: FutureWarning: Default solver will be changed to 'lbfgs' in 0.22. Specify a solver to silence this warning.\n",
            "  FutureWarning)\n",
            "/usr/local/lib/python3.6/dist-packages/sklearn/linear_model/logistic.py:432: FutureWarning: Default solver will be changed to 'lbfgs' in 0.22. Specify a solver to silence this warning.\n",
            "  FutureWarning)\n",
            "/usr/local/lib/python3.6/dist-packages/sklearn/linear_model/logistic.py:432: FutureWarning: Default solver will be changed to 'lbfgs' in 0.22. Specify a solver to silence this warning.\n",
            "  FutureWarning)\n",
            "/usr/local/lib/python3.6/dist-packages/sklearn/linear_model/logistic.py:432: FutureWarning: Default solver will be changed to 'lbfgs' in 0.22. Specify a solver to silence this warning.\n",
            "  FutureWarning)\n",
            "/usr/local/lib/python3.6/dist-packages/sklearn/linear_model/logistic.py:432: FutureWarning: Default solver will be changed to 'lbfgs' in 0.22. Specify a solver to silence this warning.\n",
            "  FutureWarning)\n",
            "/usr/local/lib/python3.6/dist-packages/sklearn/linear_model/logistic.py:432: FutureWarning: Default solver will be changed to 'lbfgs' in 0.22. Specify a solver to silence this warning.\n",
            "  FutureWarning)\n",
            "/usr/local/lib/python3.6/dist-packages/sklearn/linear_model/logistic.py:432: FutureWarning: Default solver will be changed to 'lbfgs' in 0.22. Specify a solver to silence this warning.\n",
            "  FutureWarning)\n",
            "/usr/local/lib/python3.6/dist-packages/sklearn/linear_model/logistic.py:432: FutureWarning: Default solver will be changed to 'lbfgs' in 0.22. Specify a solver to silence this warning.\n",
            "  FutureWarning)\n",
            "/usr/local/lib/python3.6/dist-packages/sklearn/linear_model/logistic.py:432: FutureWarning: Default solver will be changed to 'lbfgs' in 0.22. Specify a solver to silence this warning.\n",
            "  FutureWarning)\n",
            "/usr/local/lib/python3.6/dist-packages/sklearn/linear_model/logistic.py:432: FutureWarning: Default solver will be changed to 'lbfgs' in 0.22. Specify a solver to silence this warning.\n",
            "  FutureWarning)\n",
            "/usr/local/lib/python3.6/dist-packages/sklearn/linear_model/logistic.py:432: FutureWarning: Default solver will be changed to 'lbfgs' in 0.22. Specify a solver to silence this warning.\n",
            "  FutureWarning)\n",
            "/usr/local/lib/python3.6/dist-packages/sklearn/linear_model/logistic.py:432: FutureWarning: Default solver will be changed to 'lbfgs' in 0.22. Specify a solver to silence this warning.\n",
            "  FutureWarning)\n",
            "/usr/local/lib/python3.6/dist-packages/sklearn/linear_model/logistic.py:432: FutureWarning: Default solver will be changed to 'lbfgs' in 0.22. Specify a solver to silence this warning.\n",
            "  FutureWarning)\n",
            "/usr/local/lib/python3.6/dist-packages/sklearn/linear_model/logistic.py:432: FutureWarning: Default solver will be changed to 'lbfgs' in 0.22. Specify a solver to silence this warning.\n",
            "  FutureWarning)\n",
            "/usr/local/lib/python3.6/dist-packages/sklearn/linear_model/logistic.py:432: FutureWarning: Default solver will be changed to 'lbfgs' in 0.22. Specify a solver to silence this warning.\n",
            "  FutureWarning)\n",
            "/usr/local/lib/python3.6/dist-packages/sklearn/linear_model/logistic.py:432: FutureWarning: Default solver will be changed to 'lbfgs' in 0.22. Specify a solver to silence this warning.\n",
            "  FutureWarning)\n"
          ],
          "name": "stderr"
        },
        {
          "output_type": "stream",
          "text": [
            "[False False False False False False False False  True False False  True\n",
            " False  True False False False False False False False False False False\n",
            " False  True False False  True False False False  True  True False False\n",
            " False False False False False  True  True  True  True  True  True  True\n",
            "  True  True  True  True False False False False False False  True False\n",
            "  True]\n",
            "[39 35 21 40  9 12 17 32  1 30  8  1  7  1  5 29  2  4 24  3  6 10 15 16\n",
            " 14  1 19 28  1 34 20 38  1  1 42 22 36 33 27 37 31  1  1  1  1  1  1  1\n",
            "  1  1  1  1 26 25 11 23 41 18  1 13  1]\n"
          ],
          "name": "stdout"
        }
      ]
    },
    {
      "cell_type": "code",
      "metadata": {
        "id": "1c01oxD1gfAK",
        "colab_type": "code",
        "colab": {}
      },
      "source": [
        "cols=['euribor3m', 'job_blue-collar', 'job_housemaid', 'marital_unknown', 'education_illiterate', 'default_no', 'default_unknown', \n",
        "      'contact_cellular', 'contact_telephone', 'month_apr', 'month_aug', 'month_dec', 'month_jul', 'month_jun', 'month_mar', \n",
        "      'month_may', 'month_nov', 'month_oct', \"poutcome_failure\", \"poutcome_success\"] \n",
        "X=os_data_X[cols]\n",
        "y=os_data_y['y']"
      ],
      "execution_count": 0,
      "outputs": []
    },
    {
      "cell_type": "code",
      "metadata": {
        "id": "0K0OkZsPgkBq",
        "colab_type": "code",
        "outputId": "c9d3375c-4c51-474e-fd51-263ebf0d4525",
        "colab": {
          "base_uri": "https://localhost:8080/",
          "height": 712
        }
      },
      "source": [
        "import statsmodels.api as sm\n",
        "logit_model=sm.Logit(y,X)\n",
        "result=logit_model.fit()\n",
        "print(result.summary2())"
      ],
      "execution_count": 0,
      "outputs": [
        {
          "output_type": "stream",
          "text": [
            "Warning: Maximum number of iterations has been exceeded.\n",
            "         Current function value: 0.545904\n",
            "         Iterations: 35\n",
            "                                Results: Logit\n",
            "==============================================================================\n",
            "Model:                   Logit                Pseudo R-squared:     0.212     \n",
            "Dependent Variable:      y                    AIC:                  55868.4619\n",
            "Date:                    2019-11-12 16:46     BIC:                  56045.3060\n",
            "No. Observations:        51134                Log-Likelihood:       -27914.   \n",
            "Df Model:                19                   LL-Null:              -35443.   \n",
            "Df Residuals:            51114                LLR p-value:          0.0000    \n",
            "Converged:               0.0000               Scale:                1.0000    \n",
            "No. Iterations:          35.0000                                              \n",
            "------------------------------------------------------------------------------\n",
            "                      Coef.    Std.Err.    z     P>|z|     [0.025     0.975]  \n",
            "------------------------------------------------------------------------------\n",
            "euribor3m             -0.4634    0.0091 -50.9423 0.0000     -0.4812    -0.4456\n",
            "job_blue-collar       -0.1772    0.0284  -6.2484 0.0000     -0.2328    -0.1216\n",
            "job_housemaid         -0.3268    0.0778  -4.2022 0.0000     -0.4792    -0.1744\n",
            "marital_unknown        0.7452    0.2253   3.3074 0.0009      0.3036     1.1868\n",
            "education_illiterate   1.3163    0.4373   3.0099 0.0026      0.4592     2.1735\n",
            "default_no            16.1527 5414.0603   0.0030 0.9976 -10595.2105 10627.5160\n",
            "default_unknown       15.8936 5414.0603   0.0029 0.9977 -10595.4697 10627.2568\n",
            "contact_cellular     -13.9394 5414.0603  -0.0026 0.9979 -10625.3027 10597.4238\n",
            "contact_telephone    -14.0063 5414.0603  -0.0026 0.9979 -10625.3695 10597.3570\n",
            "month_apr             -0.8362    0.0913  -9.1563 0.0000     -1.0152    -0.6572\n",
            "month_aug             -0.6896    0.0929  -7.4202 0.0000     -0.8718    -0.5075\n",
            "month_dec             -0.4233    0.1655  -2.5577 0.0105     -0.7477    -0.0989\n",
            "month_jul             -0.4045    0.0935  -4.3264 0.0000     -0.5877    -0.2212\n",
            "month_jun             -0.4810    0.0917  -5.2466 0.0000     -0.6607    -0.3013\n",
            "month_mar              0.6637    0.1229   5.3984 0.0000      0.4227     0.9047\n",
            "month_may             -1.4737    0.0874 -16.8645 0.0000     -1.6450    -1.3025\n",
            "month_nov             -0.8292    0.0942  -8.8024 0.0000     -1.0138    -0.6446\n",
            "month_oct              0.5004    0.1174   4.2608 0.0000      0.2702     0.7306\n",
            "poutcome_failure      -0.5006    0.0363 -13.7864 0.0000     -0.5717    -0.4294\n",
            "poutcome_success       1.5788    0.0618  25.5318 0.0000      1.4576     1.7000\n",
            "==============================================================================\n",
            "\n"
          ],
          "name": "stdout"
        },
        {
          "output_type": "stream",
          "text": [
            "/usr/local/lib/python3.6/dist-packages/statsmodels/base/model.py:512: ConvergenceWarning: Maximum Likelihood optimization failed to converge. Check mle_retvals\n",
            "  \"Check mle_retvals\", ConvergenceWarning)\n"
          ],
          "name": "stderr"
        }
      ]
    },
    {
      "cell_type": "code",
      "metadata": {
        "id": "FLwrPIwAgnEY",
        "colab_type": "code",
        "outputId": "f33f67ef-f704-4e89-868a-59460ed82614",
        "colab": {
          "base_uri": "https://localhost:8080/",
          "height": 607
        }
      },
      "source": [
        "cols=['euribor3m', 'job_blue-collar', 'job_housemaid', 'marital_unknown', 'education_illiterate', \n",
        "      'month_apr', 'month_aug', 'month_dec', 'month_jul', 'month_jun', 'month_mar', \n",
        "      'month_may', 'month_nov', 'month_oct', \"poutcome_failure\", \"poutcome_success\"] \n",
        "X=os_data_X[cols]\n",
        "y=os_data_y['y']\n",
        "logit_model=sm.Logit(y,X)\n",
        "result=logit_model.fit()\n",
        "print(result.summary2())"
      ],
      "execution_count": 0,
      "outputs": [
        {
          "output_type": "stream",
          "text": [
            "Optimization terminated successfully.\n",
            "         Current function value: 0.555890\n",
            "         Iterations 7\n",
            "                           Results: Logit\n",
            "=====================================================================\n",
            "Model:                Logit             Pseudo R-squared:  0.198     \n",
            "Dependent Variable:   y                 AIC:               56881.7793\n",
            "Date:                 2019-11-12 16:46  BIC:               57023.2546\n",
            "No. Observations:     51134             Log-Likelihood:    -28425.   \n",
            "Df Model:             15                LL-Null:           -35443.   \n",
            "Df Residuals:         51118             LLR p-value:       0.0000    \n",
            "Converged:            1.0000            Scale:             1.0000    \n",
            "No. Iterations:       7.0000                                         \n",
            "---------------------------------------------------------------------\n",
            "                      Coef.  Std.Err.    z     P>|z|   [0.025  0.975]\n",
            "---------------------------------------------------------------------\n",
            "euribor3m            -0.4488   0.0074 -60.6838 0.0000 -0.4632 -0.4343\n",
            "job_blue-collar      -0.2097   0.0278  -7.5345 0.0000 -0.2643 -0.1552\n",
            "job_housemaid        -0.2793   0.0762  -3.6636 0.0002 -0.4287 -0.1299\n",
            "marital_unknown       0.7618   0.2244   3.3953 0.0007  0.3220  1.2016\n",
            "education_illiterate  1.3085   0.4346   3.0108 0.0026  0.4567  2.1604\n",
            "month_apr             1.2863   0.0380  33.8252 0.0000  1.2117  1.3608\n",
            "month_aug             1.3948   0.0411  33.9435 0.0000  1.3143  1.4754\n",
            "month_dec             1.8090   0.1441  12.5523 0.0000  1.5265  2.0915\n",
            "month_jul             1.6763   0.0424  39.5459 0.0000  1.5932  1.7594\n",
            "month_jun             1.5586   0.0408  38.1651 0.0000  1.4786  1.6387\n",
            "month_mar             2.8220   0.0908  31.0943 0.0000  2.6442  2.9999\n",
            "month_may             0.5867   0.0304  19.2814 0.0000  0.5270  0.6463\n",
            "month_nov             1.2735   0.0445  28.5964 0.0000  1.1863  1.3608\n",
            "month_oct             2.7225   0.0815  33.3924 0.0000  2.5627  2.8823\n",
            "poutcome_failure     -0.2803   0.0351  -7.9904 0.0000 -0.3490 -0.2115\n",
            "poutcome_success      1.9619   0.0602  32.5957 0.0000  1.8439  2.0798\n",
            "=====================================================================\n",
            "\n"
          ],
          "name": "stdout"
        }
      ]
    },
    {
      "cell_type": "markdown",
      "metadata": {
        "id": "usIB834XgsIq",
        "colab_type": "text"
      },
      "source": [
        "Logistic Regression Model Fitting"
      ]
    },
    {
      "cell_type": "code",
      "metadata": {
        "id": "G4ZIyJkggssv",
        "colab_type": "code",
        "outputId": "da074d34-f24e-43c8-82f1-5781bcccd56b",
        "colab": {
          "base_uri": "https://localhost:8080/",
          "height": 139
        }
      },
      "source": [
        "from sklearn.linear_model import LogisticRegression\n",
        "from sklearn import metrics\n",
        "X_train, X_test, y_train, y_test = train_test_split(X, y, test_size=0.3, random_state=0)\n",
        "logreg = LogisticRegression()\n",
        "logreg.fit(X_train, y_train)"
      ],
      "execution_count": 0,
      "outputs": [
        {
          "output_type": "stream",
          "text": [
            "/usr/local/lib/python3.6/dist-packages/sklearn/linear_model/logistic.py:432: FutureWarning: Default solver will be changed to 'lbfgs' in 0.22. Specify a solver to silence this warning.\n",
            "  FutureWarning)\n"
          ],
          "name": "stderr"
        },
        {
          "output_type": "execute_result",
          "data": {
            "text/plain": [
              "LogisticRegression(C=1.0, class_weight=None, dual=False, fit_intercept=True,\n",
              "                   intercept_scaling=1, l1_ratio=None, max_iter=100,\n",
              "                   multi_class='warn', n_jobs=None, penalty='l2',\n",
              "                   random_state=None, solver='warn', tol=0.0001, verbose=0,\n",
              "                   warm_start=False)"
            ]
          },
          "metadata": {
            "tags": []
          },
          "execution_count": 18
        }
      ]
    },
    {
      "cell_type": "code",
      "metadata": {
        "id": "Yi8oKCNogyei",
        "colab_type": "code",
        "outputId": "b2a37bb3-be85-459b-95bb-fcc12f445e14",
        "colab": {
          "base_uri": "https://localhost:8080/",
          "height": 34
        }
      },
      "source": [
        "y_pred = logreg.predict(X_test)\n",
        "print('Accuracy of logistic regression classifier on test set: {:.2f}'.format(logreg.score(X_test, y_test)))"
      ],
      "execution_count": 0,
      "outputs": [
        {
          "output_type": "stream",
          "text": [
            "Accuracy of logistic regression classifier on test set: 0.74\n"
          ],
          "name": "stdout"
        }
      ]
    },
    {
      "cell_type": "code",
      "metadata": {
        "id": "7Q_RKvpOg1qr",
        "colab_type": "code",
        "outputId": "ebb7f052-63f0-4e42-e701-ca4716d05a62",
        "colab": {
          "base_uri": "https://localhost:8080/",
          "height": 52
        }
      },
      "source": [
        "from sklearn.metrics import confusion_matrix\n",
        "confusion_matrix = confusion_matrix(y_test, y_pred)\n",
        "print(confusion_matrix)"
      ],
      "execution_count": 0,
      "outputs": [
        {
          "output_type": "stream",
          "text": [
            "[[6124 1542]\n",
            " [2505 5170]]\n"
          ],
          "name": "stdout"
        }
      ]
    }
  ]
}